{
 "cells": [
  {
   "cell_type": "markdown",
   "id": "7d4d6d16",
   "metadata": {},
   "source": [
    "# Using API to Generate the transcription in English"
   ]
  },
  {
   "cell_type": "code",
   "execution_count": null,
   "id": "cce62b74",
   "metadata": {},
   "outputs": [],
   "source": [
    "import os\n",
    "from dotenv import load_dotenv\n",
    "import requests\n",
    "import io\n",
    "from pydub import AudioSegment\n",
    "\n",
    "# Load environment variables from .env file\n",
    "load_dotenv()\n",
    "# Access your API key\n",
    "SARVAM_API_KEY = os.getenv(\"SHARVAM_API_KEY\")"
   ]
  },
  {
   "cell_type": "markdown",
   "id": "e6bb2bef",
   "metadata": {},
   "source": [
    "# Helper Functions"
   ]
  },
  {
   "cell_type": "code",
   "execution_count": null,
   "id": "adedf479",
   "metadata": {},
   "outputs": [],
   "source": [
    "def translate_audio(audio, SARVAM_API_KEY):\n",
    "\n",
    "    # API endpoint for speech-to-text translation\n",
    "    api_url = \"https://api.sarvam.ai/speech-to-text-translate\"\n",
    "\n",
    "    # Headers containing the API subscription key\n",
    "    headers = {\n",
    "        \"api-subscription-key\": SARVAM_API_KEY  # Replace with your API key\n",
    "    }\n",
    "\n",
    "    # Data payload for the translation request\n",
    "    model_data = {\n",
    "        \"model\": \"saaras:v2\",  # Specify the model to be used\n",
    "        \"with_diarization\": False  # Set to True for speaker diarization\n",
    "    }\n",
    "\n",
    "\n",
    "    chunk_buffer = io.BytesIO()\n",
    "    audio.export(chunk_buffer, format=\"wav\")\n",
    "    chunk_buffer.seek(0)  # Reset the pointer to the start of the stream\n",
    "\n",
    "    # Prepare the file for the API request\n",
    "    files = {'file': ('audiofile.wav', chunk_buffer, 'audio/wav')}\n",
    "\n",
    "    try:\n",
    "        # Make the POST request to the API\n",
    "        response = requests.post(api_url, headers=headers, files=files, data=model_data)\n",
    "        if response.status_code == 200 or response.status_code == 201:\n",
    "            response_data = response.json()\n",
    "            transcript = response_data.get(\"transcript\", \"\")\n",
    "        else:\n",
    "            # Handle failed requests\n",
    "            print(f\"failed with status code: {response.status_code}\")\n",
    "            print(\"Response:\", response.text)\n",
    "    except Exception as e:\n",
    "        # Handle any exceptions during the request\n",
    "        print(f\"Error processing chunk {e}\")\n",
    "    finally:\n",
    "        # Ensure the buffer is closed after processing\n",
    "        chunk_buffer.close()\n",
    "\n",
    "    return transcript\n"
   ]
  }
 ],
 "metadata": {
  "kernelspec": {
   "display_name": "torch_env",
   "language": "python",
   "name": "python3"
  },
  "language_info": {
   "codemirror_mode": {
    "name": "ipython",
    "version": 3
   },
   "file_extension": ".py",
   "mimetype": "text/x-python",
   "name": "python",
   "nbconvert_exporter": "python",
   "pygments_lexer": "ipython3",
   "version": "3.11.10"
  }
 },
 "nbformat": 4,
 "nbformat_minor": 5
}
